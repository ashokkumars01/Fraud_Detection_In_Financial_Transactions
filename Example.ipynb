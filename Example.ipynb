{
 "cells": [
  {
   "cell_type": "code",
   "execution_count": 9,
   "metadata": {},
   "outputs": [],
   "source": [
    "import yaml"
   ]
  },
  {
   "cell_type": "code",
   "execution_count": 10,
   "metadata": {},
   "outputs": [
    {
     "name": "stdout",
     "output_type": "stream",
     "text": [
      "^C\n"
     ]
    },
    {
     "name": "stdout",
     "output_type": "stream",
     "text": [
      "Requirement already satisfied: PyYaml in c:\\users\\admin\\appdata\\roaming\\python\\python312\\site-packages (6.0.2)\n"
     ]
    }
   ],
   "source": [
    "!pip install PyYaml"
   ]
  },
  {
   "cell_type": "code",
   "execution_count": 1,
   "metadata": {},
   "outputs": [],
   "source": [
    "import yaml"
   ]
  },
  {
   "cell_type": "code",
   "execution_count": 18,
   "metadata": {},
   "outputs": [],
   "source": [
    "os.chdir(\"Fraud_Detection\")"
   ]
  },
  {
   "cell_type": "code",
   "execution_count": 2,
   "metadata": {},
   "outputs": [],
   "source": [
    "from Fraud_Detection.Constants.constants import *"
   ]
  },
  {
   "cell_type": "code",
   "execution_count": 3,
   "metadata": {},
   "outputs": [],
   "source": [
    "with open(r'E:\\MACHINE_LEARNING\\Real_Time_Fraud_Detection_in_Financial_Transactions\\config\\config.yaml', 'rb') as yaml_file:\n",
    "    data = yaml.safe_load(yaml_file)"
   ]
  },
  {
   "cell_type": "code",
   "execution_count": 9,
   "metadata": {},
   "outputs": [
    {
     "data": {
      "text/plain": [
       "'artifact'"
      ]
     },
     "execution_count": 9,
     "metadata": {},
     "output_type": "execute_result"
    }
   ],
   "source": [
    "data[ARTIFACT_CONFIG_KEY][ARTIFACT_DIR_CONFIG_KEY]"
   ]
  },
  {
   "cell_type": "code",
   "execution_count": 15,
   "metadata": {},
   "outputs": [
    {
     "ename": "NameError",
     "evalue": "name 'ARTIFACT_CONFIG_KEY' is not defined",
     "output_type": "error",
     "traceback": [
      "\u001b[1;31m---------------------------------------------------------------------------\u001b[0m",
      "\u001b[1;31mNameError\u001b[0m                                 Traceback (most recent call last)",
      "Cell \u001b[1;32mIn[15], line 1\u001b[0m\n\u001b[1;32m----> 1\u001b[0m data[\u001b[43mARTIFACT_CONFIG_KEY\u001b[49m]\n",
      "\u001b[1;31mNameError\u001b[0m: name 'ARTIFACT_CONFIG_KEY' is not defined"
     ]
    }
   ],
   "source": [
    "data[ARTIFACT_CONFIG_KEY]"
   ]
  },
  {
   "cell_type": "code",
   "execution_count": 3,
   "metadata": {},
   "outputs": [],
   "source": [
    "import os"
   ]
  },
  {
   "cell_type": "code",
   "execution_count": 5,
   "metadata": {},
   "outputs": [],
   "source": [
    "from Fraud_Detection.Entity.entity import DataIngestionConfig, ConfigFile"
   ]
  },
  {
   "cell_type": "code",
   "execution_count": 6,
   "metadata": {},
   "outputs": [
    {
     "data": {
      "text/plain": [
       "Fraud_Detection.Entity.entity.ConfigFile"
      ]
     },
     "execution_count": 6,
     "metadata": {},
     "output_type": "execute_result"
    }
   ],
   "source": [
    "ConfigFile"
   ]
  },
  {
   "cell_type": "code",
   "execution_count": 7,
   "metadata": {},
   "outputs": [],
   "source": [
    "from Fraud_Detection.Configuration.configuration import Config"
   ]
  },
  {
   "cell_type": "code",
   "execution_count": 8,
   "metadata": {},
   "outputs": [],
   "source": [
    "root_dir = os.getcwd()\n",
    "folder = data[CONFIG_FILE_YAML_KEY][CONFIG_FOLDER_NAME]\n",
    "file = data[CONFIG_FILE_YAML_KEY][CONFIG_FILE_NAME]\n",
    "PATH = os.path.join(root_dir, folder, file)\n"
   ]
  },
  {
   "cell_type": "code",
   "execution_count": 9,
   "metadata": {},
   "outputs": [
    {
     "name": "stdout",
     "output_type": "stream",
     "text": [
      "{'config_file_yaml': {'config_file_name': 'config.yaml', 'config_folder_name': 'config'}, 'artifactory': {'artifact_dir': 'artifact'}, 'data_ingestion_config': {'dataset_file_name': 'creditcard.csv', 'dataset_folder_name': 'dataset', 'train_data_folder_name': 'train', 'test_data_folder_name': 'test', 'valid_dataset_folder': 'valid_data'}}\n"
     ]
    }
   ],
   "source": [
    "Obj = Config(PATH)"
   ]
  },
  {
   "cell_type": "code",
   "execution_count": 10,
   "metadata": {},
   "outputs": [],
   "source": [
    "data_frame = Obj.data_ingestion()\n"
   ]
  },
  {
   "cell_type": "code",
   "execution_count": 11,
   "metadata": {},
   "outputs": [
    {
     "name": "stdout",
     "output_type": "stream",
     "text": [
      "e:\\MACHINE_LEARNING\\Real_Time_Fraud_Detection_in_Financial_Transactions\\dataset\\creditcard.csv\n"
     ]
    }
   ],
   "source": [
    "print(data_frame)"
   ]
  },
  {
   "cell_type": "code",
   "execution_count": 12,
   "metadata": {},
   "outputs": [],
   "source": [
    "import pandas as pd\n",
    "\n",
    "df = pd.read_csv(data_frame)"
   ]
  },
  {
   "cell_type": "code",
   "execution_count": 13,
   "metadata": {},
   "outputs": [
    {
     "data": {
      "text/html": [
       "<div>\n",
       "<style scoped>\n",
       "    .dataframe tbody tr th:only-of-type {\n",
       "        vertical-align: middle;\n",
       "    }\n",
       "\n",
       "    .dataframe tbody tr th {\n",
       "        vertical-align: top;\n",
       "    }\n",
       "\n",
       "    .dataframe thead th {\n",
       "        text-align: right;\n",
       "    }\n",
       "</style>\n",
       "<table border=\"1\" class=\"dataframe\">\n",
       "  <thead>\n",
       "    <tr style=\"text-align: right;\">\n",
       "      <th></th>\n",
       "      <th>Time</th>\n",
       "      <th>V1</th>\n",
       "      <th>V2</th>\n",
       "      <th>V3</th>\n",
       "      <th>V4</th>\n",
       "      <th>V5</th>\n",
       "      <th>V6</th>\n",
       "      <th>V7</th>\n",
       "      <th>V8</th>\n",
       "      <th>V9</th>\n",
       "      <th>...</th>\n",
       "      <th>V21</th>\n",
       "      <th>V22</th>\n",
       "      <th>V23</th>\n",
       "      <th>V24</th>\n",
       "      <th>V25</th>\n",
       "      <th>V26</th>\n",
       "      <th>V27</th>\n",
       "      <th>V28</th>\n",
       "      <th>Amount</th>\n",
       "      <th>Class</th>\n",
       "    </tr>\n",
       "  </thead>\n",
       "  <tbody>\n",
       "    <tr>\n",
       "      <th>0</th>\n",
       "      <td>0.0</td>\n",
       "      <td>-1.359807</td>\n",
       "      <td>-0.072781</td>\n",
       "      <td>2.536347</td>\n",
       "      <td>1.378155</td>\n",
       "      <td>-0.338321</td>\n",
       "      <td>0.462388</td>\n",
       "      <td>0.239599</td>\n",
       "      <td>0.098698</td>\n",
       "      <td>0.363787</td>\n",
       "      <td>...</td>\n",
       "      <td>-0.018307</td>\n",
       "      <td>0.277838</td>\n",
       "      <td>-0.110474</td>\n",
       "      <td>0.066928</td>\n",
       "      <td>0.128539</td>\n",
       "      <td>-0.189115</td>\n",
       "      <td>0.133558</td>\n",
       "      <td>-0.021053</td>\n",
       "      <td>149.62</td>\n",
       "      <td>0</td>\n",
       "    </tr>\n",
       "    <tr>\n",
       "      <th>1</th>\n",
       "      <td>0.0</td>\n",
       "      <td>1.191857</td>\n",
       "      <td>0.266151</td>\n",
       "      <td>0.166480</td>\n",
       "      <td>0.448154</td>\n",
       "      <td>0.060018</td>\n",
       "      <td>-0.082361</td>\n",
       "      <td>-0.078803</td>\n",
       "      <td>0.085102</td>\n",
       "      <td>-0.255425</td>\n",
       "      <td>...</td>\n",
       "      <td>-0.225775</td>\n",
       "      <td>-0.638672</td>\n",
       "      <td>0.101288</td>\n",
       "      <td>-0.339846</td>\n",
       "      <td>0.167170</td>\n",
       "      <td>0.125895</td>\n",
       "      <td>-0.008983</td>\n",
       "      <td>0.014724</td>\n",
       "      <td>2.69</td>\n",
       "      <td>0</td>\n",
       "    </tr>\n",
       "    <tr>\n",
       "      <th>2</th>\n",
       "      <td>1.0</td>\n",
       "      <td>-1.358354</td>\n",
       "      <td>-1.340163</td>\n",
       "      <td>1.773209</td>\n",
       "      <td>0.379780</td>\n",
       "      <td>-0.503198</td>\n",
       "      <td>1.800499</td>\n",
       "      <td>0.791461</td>\n",
       "      <td>0.247676</td>\n",
       "      <td>-1.514654</td>\n",
       "      <td>...</td>\n",
       "      <td>0.247998</td>\n",
       "      <td>0.771679</td>\n",
       "      <td>0.909412</td>\n",
       "      <td>-0.689281</td>\n",
       "      <td>-0.327642</td>\n",
       "      <td>-0.139097</td>\n",
       "      <td>-0.055353</td>\n",
       "      <td>-0.059752</td>\n",
       "      <td>378.66</td>\n",
       "      <td>0</td>\n",
       "    </tr>\n",
       "    <tr>\n",
       "      <th>3</th>\n",
       "      <td>1.0</td>\n",
       "      <td>-0.966272</td>\n",
       "      <td>-0.185226</td>\n",
       "      <td>1.792993</td>\n",
       "      <td>-0.863291</td>\n",
       "      <td>-0.010309</td>\n",
       "      <td>1.247203</td>\n",
       "      <td>0.237609</td>\n",
       "      <td>0.377436</td>\n",
       "      <td>-1.387024</td>\n",
       "      <td>...</td>\n",
       "      <td>-0.108300</td>\n",
       "      <td>0.005274</td>\n",
       "      <td>-0.190321</td>\n",
       "      <td>-1.175575</td>\n",
       "      <td>0.647376</td>\n",
       "      <td>-0.221929</td>\n",
       "      <td>0.062723</td>\n",
       "      <td>0.061458</td>\n",
       "      <td>123.50</td>\n",
       "      <td>0</td>\n",
       "    </tr>\n",
       "    <tr>\n",
       "      <th>4</th>\n",
       "      <td>2.0</td>\n",
       "      <td>-1.158233</td>\n",
       "      <td>0.877737</td>\n",
       "      <td>1.548718</td>\n",
       "      <td>0.403034</td>\n",
       "      <td>-0.407193</td>\n",
       "      <td>0.095921</td>\n",
       "      <td>0.592941</td>\n",
       "      <td>-0.270533</td>\n",
       "      <td>0.817739</td>\n",
       "      <td>...</td>\n",
       "      <td>-0.009431</td>\n",
       "      <td>0.798278</td>\n",
       "      <td>-0.137458</td>\n",
       "      <td>0.141267</td>\n",
       "      <td>-0.206010</td>\n",
       "      <td>0.502292</td>\n",
       "      <td>0.219422</td>\n",
       "      <td>0.215153</td>\n",
       "      <td>69.99</td>\n",
       "      <td>0</td>\n",
       "    </tr>\n",
       "  </tbody>\n",
       "</table>\n",
       "<p>5 rows × 31 columns</p>\n",
       "</div>"
      ],
      "text/plain": [
       "   Time        V1        V2        V3        V4        V5        V6        V7  \\\n",
       "0   0.0 -1.359807 -0.072781  2.536347  1.378155 -0.338321  0.462388  0.239599   \n",
       "1   0.0  1.191857  0.266151  0.166480  0.448154  0.060018 -0.082361 -0.078803   \n",
       "2   1.0 -1.358354 -1.340163  1.773209  0.379780 -0.503198  1.800499  0.791461   \n",
       "3   1.0 -0.966272 -0.185226  1.792993 -0.863291 -0.010309  1.247203  0.237609   \n",
       "4   2.0 -1.158233  0.877737  1.548718  0.403034 -0.407193  0.095921  0.592941   \n",
       "\n",
       "         V8        V9  ...       V21       V22       V23       V24       V25  \\\n",
       "0  0.098698  0.363787  ... -0.018307  0.277838 -0.110474  0.066928  0.128539   \n",
       "1  0.085102 -0.255425  ... -0.225775 -0.638672  0.101288 -0.339846  0.167170   \n",
       "2  0.247676 -1.514654  ...  0.247998  0.771679  0.909412 -0.689281 -0.327642   \n",
       "3  0.377436 -1.387024  ... -0.108300  0.005274 -0.190321 -1.175575  0.647376   \n",
       "4 -0.270533  0.817739  ... -0.009431  0.798278 -0.137458  0.141267 -0.206010   \n",
       "\n",
       "        V26       V27       V28  Amount  Class  \n",
       "0 -0.189115  0.133558 -0.021053  149.62      0  \n",
       "1  0.125895 -0.008983  0.014724    2.69      0  \n",
       "2 -0.139097 -0.055353 -0.059752  378.66      0  \n",
       "3 -0.221929  0.062723  0.061458  123.50      0  \n",
       "4  0.502292  0.219422  0.215153   69.99      0  \n",
       "\n",
       "[5 rows x 31 columns]"
      ]
     },
     "execution_count": 13,
     "metadata": {},
     "output_type": "execute_result"
    }
   ],
   "source": [
    "df.head(5)"
   ]
  },
  {
   "cell_type": "code",
   "execution_count": null,
   "metadata": {},
   "outputs": [],
   "source": []
  },
  {
   "cell_type": "code",
   "execution_count": 6,
   "metadata": {},
   "outputs": [],
   "source": [
    "import os\n",
    "import yaml\n",
    "from Fraud_Detection.Constants.constants import *"
   ]
  },
  {
   "cell_type": "code",
   "execution_count": 9,
   "metadata": {},
   "outputs": [],
   "source": [
    "with open(r'E:\\MACHINE_LEARNING\\Real_Time_Fraud_Detection_in_Financial_Transactions\\config\\config.yaml', 'rb') as yaml_file:\n",
    "    data = yaml.safe_load(yaml_file)"
   ]
  },
  {
   "cell_type": "code",
   "execution_count": 12,
   "metadata": {},
   "outputs": [
    {
     "data": {
      "text/plain": [
       "{'dataset_file_name': 'creditcard.csv',\n",
       " 'dataset_folder_name': 'dataset',\n",
       " 'train_data_folder_name': 'train',\n",
       " 'test_data_folder_name': 'test',\n",
       " 'valid_dataset_folder': 'valid_data'}"
      ]
     },
     "execution_count": 12,
     "metadata": {},
     "output_type": "execute_result"
    }
   ],
   "source": [
    "data[DATA_INGESTION_CONFIG_KEY]"
   ]
  },
  {
   "cell_type": "code",
   "execution_count": 13,
   "metadata": {},
   "outputs": [
    {
     "data": {
      "text/plain": [
       "'creditcard.csv'"
      ]
     },
     "execution_count": 13,
     "metadata": {},
     "output_type": "execute_result"
    }
   ],
   "source": [
    "data[DATA_INGESTION_CONFIG_KEY][DATASET_FILE_NAME_CONFIG_KEY]"
   ]
  },
  {
   "cell_type": "code",
   "execution_count": 14,
   "metadata": {},
   "outputs": [
    {
     "data": {
      "text/plain": [
       "'dataset'"
      ]
     },
     "execution_count": 14,
     "metadata": {},
     "output_type": "execute_result"
    }
   ],
   "source": [
    "data[DATA_INGESTION_CONFIG_KEY][DATASET_FOLDER_NAME_CONFIG_KEY]"
   ]
  },
  {
   "cell_type": "code",
   "execution_count": 15,
   "metadata": {},
   "outputs": [
    {
     "data": {
      "text/plain": [
       "'train'"
      ]
     },
     "execution_count": 15,
     "metadata": {},
     "output_type": "execute_result"
    }
   ],
   "source": [
    "data[DATA_INGESTION_CONFIG_KEY][TRAIN_DATA_FOLDER_NAME_CONFIG_KEY]"
   ]
  },
  {
   "cell_type": "code",
   "execution_count": 1,
   "metadata": {},
   "outputs": [
    {
     "name": "stdout",
     "output_type": "stream",
     "text": [
      "creditcard.csv\n",
      "dataset\n",
      "data_ingestion\n"
     ]
    }
   ],
   "source": [
    "from Fraud_Detection.Configuration.configuration import *\n",
    "obj = Config(r'E:\\MACHINE_LEARNING\\Real_Time_Fraud_Detection_in_Financial_Transactions\\config\\config.yaml')\n",
    "res = obj.data_ingestion()\n",
    "print(res.dataset_file_name)\n",
    "print(res.dataset_folder_name)\n",
    "print(res.new_dataset_folder_name)"
   ]
  },
  {
   "cell_type": "code",
   "execution_count": 2,
   "metadata": {},
   "outputs": [
    {
     "name": "stdout",
     "output_type": "stream",
     "text": [
      "e:\\MACHINE_LEARNING\\Real_Time_Fraud_Detection_in_Financial_Transactions\\artifact\\data_ingestion\\2024-10-02-10-54-17\\creditcard.csv\n"
     ]
    }
   ],
   "source": [
    "from Fraud_Detection.components.data_ingestion import DataIngestion\n",
    "o = DataIngestion(res)\n",
    "r1 = o.download_dataset()\n",
    "print(r1)"
   ]
  },
  {
   "cell_type": "code",
   "execution_count": 3,
   "metadata": {},
   "outputs": [
    {
     "name": "stdout",
     "output_type": "stream",
     "text": [
      "   Time        V1        V2        V3        V4        V5        V6        V7  \\\n",
      "0   0.0 -1.359807 -0.072781  2.536347  1.378155 -0.338321  0.462388  0.239599   \n",
      "1   0.0  1.191857  0.266151  0.166480  0.448154  0.060018 -0.082361 -0.078803   \n",
      "2   1.0 -1.358354 -1.340163  1.773209  0.379780 -0.503198  1.800499  0.791461   \n",
      "3   1.0 -0.966272 -0.185226  1.792993 -0.863291 -0.010309  1.247203  0.237609   \n",
      "4   2.0 -1.158233  0.877737  1.548718  0.403034 -0.407193  0.095921  0.592941   \n",
      "\n",
      "         V8        V9  ...       V21       V22       V23       V24       V25  \\\n",
      "0  0.098698  0.363787  ... -0.018307  0.277838 -0.110474  0.066928  0.128539   \n",
      "1  0.085102 -0.255425  ... -0.225775 -0.638672  0.101288 -0.339846  0.167170   \n",
      "2  0.247676 -1.514654  ...  0.247998  0.771679  0.909412 -0.689281 -0.327642   \n",
      "3  0.377436 -1.387024  ... -0.108300  0.005274 -0.190321 -1.175575  0.647376   \n",
      "4 -0.270533  0.817739  ... -0.009431  0.798278 -0.137458  0.141267 -0.206010   \n",
      "\n",
      "        V26       V27       V28  Amount  Class  \n",
      "0 -0.189115  0.133558 -0.021053  149.62      0  \n",
      "1  0.125895 -0.008983  0.014724    2.69      0  \n",
      "2 -0.139097 -0.055353 -0.059752  378.66      0  \n",
      "3 -0.221929  0.062723  0.061458  123.50      0  \n",
      "4  0.502292  0.219422  0.215153   69.99      0  \n",
      "\n",
      "[5 rows x 31 columns]\n"
     ]
    }
   ],
   "source": [
    "import pandas as pd\n",
    "df = pd.read_csv(r1)\n",
    "print(df.head(5))"
   ]
  },
  {
   "cell_type": "code",
   "execution_count": 4,
   "metadata": {},
   "outputs": [
    {
     "name": "stdout",
     "output_type": "stream",
     "text": [
      "e:\\MACHINE_LEARNING\\Real_Time_Fraud_Detection_in_Financial_Transactions\\artifact\\train_test_split\\2024-10-02-10-54-28\\train\\train.csv\n",
      "e:\\MACHINE_LEARNING\\Real_Time_Fraud_Detection_in_Financial_Transactions\\artifact\\train_test_split\\2024-10-02-10-54-28\\test\\test.csv\n"
     ]
    }
   ],
   "source": [
    "train, test = o.split_data_train_test()\n",
    "print(train)\n",
    "print(test)"
   ]
  },
  {
   "cell_type": "code",
   "execution_count": 5,
   "metadata": {},
   "outputs": [
    {
     "name": "stdout",
     "output_type": "stream",
     "text": [
      "         V1        V2        V3        V4        V5        V6        V7  \\\n",
      "0  1.946747 -0.752526 -1.355130 -0.661630  1.502822  4.024933 -1.479661   \n",
      "1  2.035149 -0.048880 -3.058693  0.247945  2.943487  3.298697 -0.002192   \n",
      "2 -0.991920  0.603193  0.711976 -0.992425 -0.825838  1.956261 -2.212603   \n",
      "3  2.285718 -1.500239 -0.747565 -1.668119 -1.394143 -0.350339 -1.427984   \n",
      "4 -0.448747 -1.011440  0.115903 -3.454854  0.715771 -0.147490  0.504347   \n",
      "\n",
      "         V8        V9       V10  ...       V21       V22       V23       V24  \\\n",
      "0  1.139880  1.406819 -0.157403  ...  0.076197  0.297537  0.307915  0.690980   \n",
      "1  0.674782  0.045826  0.284864  ...  0.038628  0.228197  0.035542  0.707090   \n",
      "2 -5.037523  0.000772 -2.009561  ... -2.798352  0.109526 -0.436530 -0.932803   \n",
      "3  0.010010 -1.118447  1.756121  ... -0.139670  0.077013  0.208310 -0.538236   \n",
      "4 -0.113817 -0.044782 -0.558955  ... -0.243245 -0.173298 -0.006692 -1.362383   \n",
      "\n",
      "        V25       V26       V27       V28  Amount  Class  \n",
      "0 -0.350316 -0.388907  0.077641 -0.032248    7.32      0  \n",
      "1  0.512885 -0.471198  0.002520 -0.069002    2.99      0  \n",
      "2  0.826684  0.913773  0.038049  0.185340  175.10      0  \n",
      "3 -0.278032 -0.162068  0.018045 -0.063005    6.10      0  \n",
      "4 -0.292234 -0.144622 -0.032580 -0.064194   86.10      0  \n",
      "\n",
      "[5 rows x 30 columns]\n"
     ]
    }
   ],
   "source": [
    "import pandas as pd\n",
    "df = pd.read_csv(train)\n",
    "print(df.head(5))"
   ]
  },
  {
   "cell_type": "code",
   "execution_count": 6,
   "metadata": {},
   "outputs": [
    {
     "name": "stdout",
     "output_type": "stream",
     "text": [
      "         V1        V2        V3        V4        V5        V6        V7  \\\n",
      "0 -0.674466  1.408105 -1.110622 -1.328366  1.388996 -1.308439  1.885879   \n",
      "1 -2.829816 -2.765149  2.537793 -1.074580  2.842559 -2.153536 -1.795519   \n",
      "2 -3.576495  2.318422  1.306985  3.263665  1.127818  2.865246  1.444125   \n",
      "3  2.060386 -0.015382 -1.082544  0.386019 -0.024331 -1.074935  0.207792   \n",
      "4  1.209965  1.384303 -1.343531  1.763636  0.662351 -2.113384  0.854039   \n",
      "\n",
      "         V8        V9       V10  ...       V21       V22       V23       V24  \\\n",
      "0 -0.614233  0.311652  0.650757  ...  0.080084  0.810034 -0.224327  0.707899   \n",
      "1 -0.250020  3.073504 -1.000418  ... -0.295555  0.109305 -0.813272  0.042996   \n",
      "2 -0.718922  1.874046  7.398491  ... -1.060151  0.016867 -0.132058 -1.483996   \n",
      "3 -0.338140  0.455091  0.047859  ... -0.281684 -0.639426  0.331818 -0.067584   \n",
      "4 -0.475963 -0.629658 -1.579654  ... -0.164015 -0.328294 -0.154631  0.619449   \n",
      "\n",
      "        V25       V26       V27       V28  Amount  Class  \n",
      "0 -0.135837  0.045102  0.533837  0.291319   23.00      0  \n",
      "1 -0.027660 -0.910247  0.110802 -0.511938   11.85      0  \n",
      "2 -0.296011  0.062823  0.552411  0.509764   76.07      0  \n",
      "3 -0.283675  0.203529 -0.063621 -0.060077    0.99      0  \n",
      "4  0.818998 -0.330525  0.046884  0.104527    1.50      0  \n",
      "\n",
      "[5 rows x 30 columns]\n"
     ]
    }
   ],
   "source": [
    "import pandas as pd\n",
    "df = pd.read_csv(test)\n",
    "print(df.head(5))"
   ]
  },
  {
   "cell_type": "code",
   "execution_count": 11,
   "metadata": {},
   "outputs": [],
   "source": [
    "# p = os.path.join(r1, \"creditcard.csv\")"
   ]
  },
  {
   "cell_type": "code",
   "execution_count": 12,
   "metadata": {},
   "outputs": [],
   "source": [
    "# p"
   ]
  },
  {
   "cell_type": "code",
   "execution_count": 1,
   "metadata": {},
   "outputs": [],
   "source": [
    "from Fraud_Detection.components.data_validation import DataValidation\n",
    "from Fraud_Detection.Configuration.configuration import *\n",
    "\n",
    "obj = Config(r'E:\\MACHINE_LEARNING\\Real_Time_Fraud_Detection_in_Financial_Transactions\\config\\config.yaml')\n",
    "res1 = obj.data_ingestion()\n",
    "res2 = obj.data_validation()\n",
    "\n",
    "data_valid = DataValidation(res2, res1)\n",
    "train_df, test_df = data_valid.get_train_test_data()\n"
   ]
  },
  {
   "cell_type": "code",
   "execution_count": 2,
   "metadata": {},
   "outputs": [],
   "source": [
    "# train_df.head(5)"
   ]
  },
  {
   "cell_type": "code",
   "execution_count": 3,
   "metadata": {},
   "outputs": [
    {
     "name": "stdout",
     "output_type": "stream",
     "text": [
      "e:\\MACHINE_LEARNING\\Real_Time_Fraud_Detection_in_Financial_Transactions\\artifact\\data_validation_artifact\\2024-10-02-12-22-39\\report.html\n"
     ]
    }
   ],
   "source": [
    "# a = data_valid.get_and_save_data_drift_report()\n",
    "path = data_valid.save_data_drift_report_page()\n",
    "print(path)"
   ]
  },
  {
   "cell_type": "code",
   "execution_count": 1,
   "metadata": {},
   "outputs": [
    {
     "name": "stderr",
     "output_type": "stream",
     "text": [
      "--- Logging error ---\n",
      "Traceback (most recent call last):\n",
      "  File \"e:\\MACHINE_LEARNING\\Real_Time_Fraud_Detection_in_Financial_Transactions\\Fraud_Detection\\Configuration\\configuration.py\", line 53, in data_transformation\n",
      "    data_transformation_preprocessed_dir_name = self.config_info[DATA_TRANSFORMATION_CONFIG_KEY][DATA_TRANSFORMAATION_PREPROCESSED_DIR_CONFIG_KEY]\n",
      "                                                ~~~~~~~~~~~~~~~~^^^^^^^^^^^^^^^^^^^^^^^^^^^^^^^^\n",
      "TypeError: string indices must be integers, not 'str'\n",
      "\n",
      "During handling of the above exception, another exception occurred:\n",
      "\n",
      "Traceback (most recent call last):\n",
      "  File \"e:\\MACHINE_LEARNING\\Real_Time_Fraud_Detection_in_Financial_Transactions\\venv\\Lib\\logging\\__init__.py\", line 1160, in emit\n",
      "    msg = self.format(record)\n",
      "          ^^^^^^^^^^^^^^^^^^^\n",
      "  File \"e:\\MACHINE_LEARNING\\Real_Time_Fraud_Detection_in_Financial_Transactions\\venv\\Lib\\logging\\__init__.py\", line 999, in format\n",
      "    return fmt.format(record)\n",
      "           ^^^^^^^^^^^^^^^^^^\n",
      "  File \"e:\\MACHINE_LEARNING\\Real_Time_Fraud_Detection_in_Financial_Transactions\\venv\\Lib\\logging\\__init__.py\", line 703, in format\n",
      "    record.message = record.getMessage()\n",
      "                     ^^^^^^^^^^^^^^^^^^^\n",
      "  File \"e:\\MACHINE_LEARNING\\Real_Time_Fraud_Detection_in_Financial_Transactions\\venv\\Lib\\logging\\__init__.py\", line 392, in getMessage\n",
      "    msg = msg % self.args\n",
      "          ~~~~^~~~~~~~~~~\n",
      "TypeError: not all arguments converted during string formatting\n",
      "Call stack:\n",
      "  File \"<frozen runpy>\", line 198, in _run_module_as_main\n",
      "  File \"<frozen runpy>\", line 88, in _run_code\n",
      "  File \"e:\\MACHINE_LEARNING\\Real_Time_Fraud_Detection_in_Financial_Transactions\\venv\\Lib\\site-packages\\ipykernel_launcher.py\", line 18, in <module>\n",
      "    app.launch_new_instance()\n",
      "  File \"e:\\MACHINE_LEARNING\\Real_Time_Fraud_Detection_in_Financial_Transactions\\venv\\Lib\\site-packages\\traitlets\\config\\application.py\", line 1075, in launch_instance\n",
      "    app.start()\n",
      "  File \"e:\\MACHINE_LEARNING\\Real_Time_Fraud_Detection_in_Financial_Transactions\\venv\\Lib\\site-packages\\ipykernel\\kernelapp.py\", line 739, in start\n",
      "    self.io_loop.start()\n",
      "  File \"e:\\MACHINE_LEARNING\\Real_Time_Fraud_Detection_in_Financial_Transactions\\venv\\Lib\\site-packages\\tornado\\platform\\asyncio.py\", line 205, in start\n",
      "    self.asyncio_loop.run_forever()\n",
      "  File \"e:\\MACHINE_LEARNING\\Real_Time_Fraud_Detection_in_Financial_Transactions\\venv\\Lib\\asyncio\\base_events.py\", line 618, in run_forever\n",
      "    self._run_once()\n",
      "  File \"e:\\MACHINE_LEARNING\\Real_Time_Fraud_Detection_in_Financial_Transactions\\venv\\Lib\\asyncio\\base_events.py\", line 1951, in _run_once\n",
      "    handle._run()\n",
      "  File \"e:\\MACHINE_LEARNING\\Real_Time_Fraud_Detection_in_Financial_Transactions\\venv\\Lib\\asyncio\\events.py\", line 84, in _run\n",
      "    self._context.run(self._callback, *self._args)\n",
      "  File \"e:\\MACHINE_LEARNING\\Real_Time_Fraud_Detection_in_Financial_Transactions\\venv\\Lib\\site-packages\\ipykernel\\kernelbase.py\", line 545, in dispatch_queue\n",
      "    await self.process_one()\n",
      "  File \"e:\\MACHINE_LEARNING\\Real_Time_Fraud_Detection_in_Financial_Transactions\\venv\\Lib\\site-packages\\ipykernel\\kernelbase.py\", line 534, in process_one\n",
      "    await dispatch(*args)\n",
      "  File \"e:\\MACHINE_LEARNING\\Real_Time_Fraud_Detection_in_Financial_Transactions\\venv\\Lib\\site-packages\\ipykernel\\kernelbase.py\", line 437, in dispatch_shell\n",
      "    await result\n",
      "  File \"e:\\MACHINE_LEARNING\\Real_Time_Fraud_Detection_in_Financial_Transactions\\venv\\Lib\\site-packages\\ipykernel\\ipkernel.py\", line 362, in execute_request\n",
      "    await super().execute_request(stream, ident, parent)\n",
      "  File \"e:\\MACHINE_LEARNING\\Real_Time_Fraud_Detection_in_Financial_Transactions\\venv\\Lib\\site-packages\\ipykernel\\kernelbase.py\", line 778, in execute_request\n",
      "    reply_content = await reply_content\n",
      "  File \"e:\\MACHINE_LEARNING\\Real_Time_Fraud_Detection_in_Financial_Transactions\\venv\\Lib\\site-packages\\ipykernel\\ipkernel.py\", line 449, in do_execute\n",
      "    res = shell.run_cell(\n",
      "  File \"e:\\MACHINE_LEARNING\\Real_Time_Fraud_Detection_in_Financial_Transactions\\venv\\Lib\\site-packages\\ipykernel\\zmqshell.py\", line 549, in run_cell\n",
      "    return super().run_cell(*args, **kwargs)\n",
      "  File \"e:\\MACHINE_LEARNING\\Real_Time_Fraud_Detection_in_Financial_Transactions\\venv\\Lib\\site-packages\\IPython\\core\\interactiveshell.py\", line 3075, in run_cell\n",
      "    result = self._run_cell(\n",
      "  File \"e:\\MACHINE_LEARNING\\Real_Time_Fraud_Detection_in_Financial_Transactions\\venv\\Lib\\site-packages\\IPython\\core\\interactiveshell.py\", line 3130, in _run_cell\n",
      "    result = runner(coro)\n",
      "  File \"e:\\MACHINE_LEARNING\\Real_Time_Fraud_Detection_in_Financial_Transactions\\venv\\Lib\\site-packages\\IPython\\core\\async_helpers.py\", line 128, in _pseudo_sync_runner\n",
      "    coro.send(None)\n",
      "  File \"e:\\MACHINE_LEARNING\\Real_Time_Fraud_Detection_in_Financial_Transactions\\venv\\Lib\\site-packages\\IPython\\core\\interactiveshell.py\", line 3334, in run_cell_async\n",
      "    has_raised = await self.run_ast_nodes(code_ast.body, cell_name,\n",
      "  File \"e:\\MACHINE_LEARNING\\Real_Time_Fraud_Detection_in_Financial_Transactions\\venv\\Lib\\site-packages\\IPython\\core\\interactiveshell.py\", line 3517, in run_ast_nodes\n",
      "    if await self.run_code(code, result, async_=asy):\n",
      "  File \"e:\\MACHINE_LEARNING\\Real_Time_Fraud_Detection_in_Financial_Transactions\\venv\\Lib\\site-packages\\IPython\\core\\interactiveshell.py\", line 3577, in run_code\n",
      "    exec(code_obj, self.user_global_ns, self.user_ns)\n",
      "  File \"C:\\Users\\Admin\\AppData\\Local\\Temp\\ipykernel_14116\\590585017.py\", line 5, in <module>\n",
      "    data_transform = obj.data_transformation()\n",
      "  File \"e:\\MACHINE_LEARNING\\Real_Time_Fraud_Detection_in_Financial_Transactions\\Fraud_Detection\\Configuration\\configuration.py\", line 64, in data_transformation\n",
      "    logging.error(\"Error at Data Transformation Configuration \", e)\n",
      "Message: 'Error at Data Transformation Configuration '\n",
      "Arguments: (TypeError(\"string indices must be integers, not 'str'\"),)\n",
      "--- Logging error ---\n",
      "Traceback (most recent call last):\n",
      "  File \"e:\\MACHINE_LEARNING\\Real_Time_Fraud_Detection_in_Financial_Transactions\\Fraud_Detection\\Configuration\\configuration.py\", line 18, in data_ingestion\n",
      "    raw_dataset_file_name = self.config_info[DATA_INGESTION_CONFIG_KEY][DATASET_FILE_NAME_CONFIG_KEY]\n",
      "                            ~~~~~~~~~~~~~~~~^^^^^^^^^^^^^^^^^^^^^^^^^^^\n",
      "TypeError: string indices must be integers, not 'str'\n",
      "\n",
      "During handling of the above exception, another exception occurred:\n",
      "\n",
      "Traceback (most recent call last):\n",
      "  File \"e:\\MACHINE_LEARNING\\Real_Time_Fraud_Detection_in_Financial_Transactions\\venv\\Lib\\logging\\__init__.py\", line 1160, in emit\n",
      "    msg = self.format(record)\n",
      "          ^^^^^^^^^^^^^^^^^^^\n",
      "  File \"e:\\MACHINE_LEARNING\\Real_Time_Fraud_Detection_in_Financial_Transactions\\venv\\Lib\\logging\\__init__.py\", line 999, in format\n",
      "    return fmt.format(record)\n",
      "           ^^^^^^^^^^^^^^^^^^\n",
      "  File \"e:\\MACHINE_LEARNING\\Real_Time_Fraud_Detection_in_Financial_Transactions\\venv\\Lib\\logging\\__init__.py\", line 703, in format\n",
      "    record.message = record.getMessage()\n",
      "                     ^^^^^^^^^^^^^^^^^^^\n",
      "  File \"e:\\MACHINE_LEARNING\\Real_Time_Fraud_Detection_in_Financial_Transactions\\venv\\Lib\\logging\\__init__.py\", line 392, in getMessage\n",
      "    msg = msg % self.args\n",
      "          ~~~~^~~~~~~~~~~\n",
      "TypeError: not all arguments converted during string formatting\n",
      "Call stack:\n",
      "  File \"<frozen runpy>\", line 198, in _run_module_as_main\n",
      "  File \"<frozen runpy>\", line 88, in _run_code\n",
      "  File \"e:\\MACHINE_LEARNING\\Real_Time_Fraud_Detection_in_Financial_Transactions\\venv\\Lib\\site-packages\\ipykernel_launcher.py\", line 18, in <module>\n",
      "    app.launch_new_instance()\n",
      "  File \"e:\\MACHINE_LEARNING\\Real_Time_Fraud_Detection_in_Financial_Transactions\\venv\\Lib\\site-packages\\traitlets\\config\\application.py\", line 1075, in launch_instance\n",
      "    app.start()\n",
      "  File \"e:\\MACHINE_LEARNING\\Real_Time_Fraud_Detection_in_Financial_Transactions\\venv\\Lib\\site-packages\\ipykernel\\kernelapp.py\", line 739, in start\n",
      "    self.io_loop.start()\n",
      "  File \"e:\\MACHINE_LEARNING\\Real_Time_Fraud_Detection_in_Financial_Transactions\\venv\\Lib\\site-packages\\tornado\\platform\\asyncio.py\", line 205, in start\n",
      "    self.asyncio_loop.run_forever()\n",
      "  File \"e:\\MACHINE_LEARNING\\Real_Time_Fraud_Detection_in_Financial_Transactions\\venv\\Lib\\asyncio\\base_events.py\", line 618, in run_forever\n",
      "    self._run_once()\n",
      "  File \"e:\\MACHINE_LEARNING\\Real_Time_Fraud_Detection_in_Financial_Transactions\\venv\\Lib\\asyncio\\base_events.py\", line 1951, in _run_once\n",
      "    handle._run()\n",
      "  File \"e:\\MACHINE_LEARNING\\Real_Time_Fraud_Detection_in_Financial_Transactions\\venv\\Lib\\asyncio\\events.py\", line 84, in _run\n",
      "    self._context.run(self._callback, *self._args)\n",
      "  File \"e:\\MACHINE_LEARNING\\Real_Time_Fraud_Detection_in_Financial_Transactions\\venv\\Lib\\site-packages\\ipykernel\\kernelbase.py\", line 545, in dispatch_queue\n",
      "    await self.process_one()\n",
      "  File \"e:\\MACHINE_LEARNING\\Real_Time_Fraud_Detection_in_Financial_Transactions\\venv\\Lib\\site-packages\\ipykernel\\kernelbase.py\", line 534, in process_one\n",
      "    await dispatch(*args)\n",
      "  File \"e:\\MACHINE_LEARNING\\Real_Time_Fraud_Detection_in_Financial_Transactions\\venv\\Lib\\site-packages\\ipykernel\\kernelbase.py\", line 437, in dispatch_shell\n",
      "    await result\n",
      "  File \"e:\\MACHINE_LEARNING\\Real_Time_Fraud_Detection_in_Financial_Transactions\\venv\\Lib\\site-packages\\ipykernel\\ipkernel.py\", line 362, in execute_request\n",
      "    await super().execute_request(stream, ident, parent)\n",
      "  File \"e:\\MACHINE_LEARNING\\Real_Time_Fraud_Detection_in_Financial_Transactions\\venv\\Lib\\site-packages\\ipykernel\\kernelbase.py\", line 778, in execute_request\n",
      "    reply_content = await reply_content\n",
      "  File \"e:\\MACHINE_LEARNING\\Real_Time_Fraud_Detection_in_Financial_Transactions\\venv\\Lib\\site-packages\\ipykernel\\ipkernel.py\", line 449, in do_execute\n",
      "    res = shell.run_cell(\n",
      "  File \"e:\\MACHINE_LEARNING\\Real_Time_Fraud_Detection_in_Financial_Transactions\\venv\\Lib\\site-packages\\ipykernel\\zmqshell.py\", line 549, in run_cell\n",
      "    return super().run_cell(*args, **kwargs)\n",
      "  File \"e:\\MACHINE_LEARNING\\Real_Time_Fraud_Detection_in_Financial_Transactions\\venv\\Lib\\site-packages\\IPython\\core\\interactiveshell.py\", line 3075, in run_cell\n",
      "    result = self._run_cell(\n",
      "  File \"e:\\MACHINE_LEARNING\\Real_Time_Fraud_Detection_in_Financial_Transactions\\venv\\Lib\\site-packages\\IPython\\core\\interactiveshell.py\", line 3130, in _run_cell\n",
      "    result = runner(coro)\n",
      "  File \"e:\\MACHINE_LEARNING\\Real_Time_Fraud_Detection_in_Financial_Transactions\\venv\\Lib\\site-packages\\IPython\\core\\async_helpers.py\", line 128, in _pseudo_sync_runner\n",
      "    coro.send(None)\n",
      "  File \"e:\\MACHINE_LEARNING\\Real_Time_Fraud_Detection_in_Financial_Transactions\\venv\\Lib\\site-packages\\IPython\\core\\interactiveshell.py\", line 3334, in run_cell_async\n",
      "    has_raised = await self.run_ast_nodes(code_ast.body, cell_name,\n",
      "  File \"e:\\MACHINE_LEARNING\\Real_Time_Fraud_Detection_in_Financial_Transactions\\venv\\Lib\\site-packages\\IPython\\core\\interactiveshell.py\", line 3517, in run_ast_nodes\n",
      "    if await self.run_code(code, result, async_=asy):\n",
      "  File \"e:\\MACHINE_LEARNING\\Real_Time_Fraud_Detection_in_Financial_Transactions\\venv\\Lib\\site-packages\\IPython\\core\\interactiveshell.py\", line 3577, in run_code\n",
      "    exec(code_obj, self.user_global_ns, self.user_ns)\n",
      "  File \"C:\\Users\\Admin\\AppData\\Local\\Temp\\ipykernel_14116\\590585017.py\", line 6, in <module>\n",
      "    data_ingestion = obj.data_ingestion()\n",
      "  File \"e:\\MACHINE_LEARNING\\Real_Time_Fraud_Detection_in_Financial_Transactions\\Fraud_Detection\\Configuration\\configuration.py\", line 32, in data_ingestion\n",
      "    logging.error(\"Error at Data Ingestion Configuration \", e)\n",
      "Message: 'Error at Data Ingestion Configuration '\n",
      "Arguments: (TypeError(\"string indices must be integers, not 'str'\"),)\n"
     ]
    }
   ],
   "source": [
    "# DATA TRANSFORMATION\n",
    "from Fraud_Detection.Configuration.configuration import *\n",
    "from Fraud_Detection.components.data_transformation import DataTransformation\n",
    "obj = Config(r'E:\\MACHINE_LEARNING\\Real_Time_Fraud_Detection_in_Financial_Transactions\\config\\config.yaml')\n",
    "data_transform = obj.data_transformation()\n",
    "data_ingestion = obj.data_ingestion()"
   ]
  },
  {
   "cell_type": "code",
   "execution_count": 1,
   "metadata": {},
   "outputs": [
    {
     "name": "stderr",
     "output_type": "stream",
     "text": [
      "--- Logging error ---\n",
      "Traceback (most recent call last):\n",
      "  File \"e:\\MACHINE_LEARNING\\Real_Time_Fraud_Detection_in_Financial_Transactions\\Fraud_Detection\\Configuration\\configuration.py\", line 53, in data_transformation\n",
      "    data_transformation_preprocessed_dir_name = self.config_info[DATA_TRANSFORMATION_CONFIG_KEY][DATA_TRANSFORMAATION_PREPROCESSED_DIR_CONFIG_KEY]\n",
      "                                                ~~~~~~~~~~~~~~~~^^^^^^^^^^^^^^^^^^^^^^^^^^^^^^^^\n",
      "TypeError: string indices must be integers, not 'str'\n",
      "\n",
      "During handling of the above exception, another exception occurred:\n",
      "\n",
      "Traceback (most recent call last):\n",
      "  File \"e:\\MACHINE_LEARNING\\Real_Time_Fraud_Detection_in_Financial_Transactions\\venv\\Lib\\logging\\__init__.py\", line 1160, in emit\n",
      "    msg = self.format(record)\n",
      "          ^^^^^^^^^^^^^^^^^^^\n",
      "  File \"e:\\MACHINE_LEARNING\\Real_Time_Fraud_Detection_in_Financial_Transactions\\venv\\Lib\\logging\\__init__.py\", line 999, in format\n",
      "    return fmt.format(record)\n",
      "           ^^^^^^^^^^^^^^^^^^\n",
      "  File \"e:\\MACHINE_LEARNING\\Real_Time_Fraud_Detection_in_Financial_Transactions\\venv\\Lib\\logging\\__init__.py\", line 703, in format\n",
      "    record.message = record.getMessage()\n",
      "                     ^^^^^^^^^^^^^^^^^^^\n",
      "  File \"e:\\MACHINE_LEARNING\\Real_Time_Fraud_Detection_in_Financial_Transactions\\venv\\Lib\\logging\\__init__.py\", line 392, in getMessage\n",
      "    msg = msg % self.args\n",
      "          ~~~~^~~~~~~~~~~\n",
      "TypeError: not all arguments converted during string formatting\n",
      "Call stack:\n",
      "  File \"<frozen runpy>\", line 198, in _run_module_as_main\n",
      "  File \"<frozen runpy>\", line 88, in _run_code\n",
      "  File \"e:\\MACHINE_LEARNING\\Real_Time_Fraud_Detection_in_Financial_Transactions\\venv\\Lib\\site-packages\\ipykernel_launcher.py\", line 18, in <module>\n",
      "    app.launch_new_instance()\n",
      "  File \"e:\\MACHINE_LEARNING\\Real_Time_Fraud_Detection_in_Financial_Transactions\\venv\\Lib\\site-packages\\traitlets\\config\\application.py\", line 1075, in launch_instance\n",
      "    app.start()\n",
      "  File \"e:\\MACHINE_LEARNING\\Real_Time_Fraud_Detection_in_Financial_Transactions\\venv\\Lib\\site-packages\\ipykernel\\kernelapp.py\", line 739, in start\n",
      "    self.io_loop.start()\n",
      "  File \"e:\\MACHINE_LEARNING\\Real_Time_Fraud_Detection_in_Financial_Transactions\\venv\\Lib\\site-packages\\tornado\\platform\\asyncio.py\", line 205, in start\n",
      "    self.asyncio_loop.run_forever()\n",
      "  File \"e:\\MACHINE_LEARNING\\Real_Time_Fraud_Detection_in_Financial_Transactions\\venv\\Lib\\asyncio\\base_events.py\", line 618, in run_forever\n",
      "    self._run_once()\n",
      "  File \"e:\\MACHINE_LEARNING\\Real_Time_Fraud_Detection_in_Financial_Transactions\\venv\\Lib\\asyncio\\base_events.py\", line 1951, in _run_once\n",
      "    handle._run()\n",
      "  File \"e:\\MACHINE_LEARNING\\Real_Time_Fraud_Detection_in_Financial_Transactions\\venv\\Lib\\asyncio\\events.py\", line 84, in _run\n",
      "    self._context.run(self._callback, *self._args)\n",
      "  File \"e:\\MACHINE_LEARNING\\Real_Time_Fraud_Detection_in_Financial_Transactions\\venv\\Lib\\site-packages\\ipykernel\\kernelbase.py\", line 545, in dispatch_queue\n",
      "    await self.process_one()\n",
      "  File \"e:\\MACHINE_LEARNING\\Real_Time_Fraud_Detection_in_Financial_Transactions\\venv\\Lib\\site-packages\\ipykernel\\kernelbase.py\", line 534, in process_one\n",
      "    await dispatch(*args)\n",
      "  File \"e:\\MACHINE_LEARNING\\Real_Time_Fraud_Detection_in_Financial_Transactions\\venv\\Lib\\site-packages\\ipykernel\\kernelbase.py\", line 437, in dispatch_shell\n",
      "    await result\n",
      "  File \"e:\\MACHINE_LEARNING\\Real_Time_Fraud_Detection_in_Financial_Transactions\\venv\\Lib\\site-packages\\ipykernel\\ipkernel.py\", line 362, in execute_request\n",
      "    await super().execute_request(stream, ident, parent)\n",
      "  File \"e:\\MACHINE_LEARNING\\Real_Time_Fraud_Detection_in_Financial_Transactions\\venv\\Lib\\site-packages\\ipykernel\\kernelbase.py\", line 778, in execute_request\n",
      "    reply_content = await reply_content\n",
      "  File \"e:\\MACHINE_LEARNING\\Real_Time_Fraud_Detection_in_Financial_Transactions\\venv\\Lib\\site-packages\\ipykernel\\ipkernel.py\", line 449, in do_execute\n",
      "    res = shell.run_cell(\n",
      "  File \"e:\\MACHINE_LEARNING\\Real_Time_Fraud_Detection_in_Financial_Transactions\\venv\\Lib\\site-packages\\ipykernel\\zmqshell.py\", line 549, in run_cell\n",
      "    return super().run_cell(*args, **kwargs)\n",
      "  File \"e:\\MACHINE_LEARNING\\Real_Time_Fraud_Detection_in_Financial_Transactions\\venv\\Lib\\site-packages\\IPython\\core\\interactiveshell.py\", line 3075, in run_cell\n",
      "    result = self._run_cell(\n",
      "  File \"e:\\MACHINE_LEARNING\\Real_Time_Fraud_Detection_in_Financial_Transactions\\venv\\Lib\\site-packages\\IPython\\core\\interactiveshell.py\", line 3130, in _run_cell\n",
      "    result = runner(coro)\n",
      "  File \"e:\\MACHINE_LEARNING\\Real_Time_Fraud_Detection_in_Financial_Transactions\\venv\\Lib\\site-packages\\IPython\\core\\async_helpers.py\", line 128, in _pseudo_sync_runner\n",
      "    coro.send(None)\n",
      "  File \"e:\\MACHINE_LEARNING\\Real_Time_Fraud_Detection_in_Financial_Transactions\\venv\\Lib\\site-packages\\IPython\\core\\interactiveshell.py\", line 3334, in run_cell_async\n",
      "    has_raised = await self.run_ast_nodes(code_ast.body, cell_name,\n",
      "  File \"e:\\MACHINE_LEARNING\\Real_Time_Fraud_Detection_in_Financial_Transactions\\venv\\Lib\\site-packages\\IPython\\core\\interactiveshell.py\", line 3517, in run_ast_nodes\n",
      "    if await self.run_code(code, result, async_=asy):\n",
      "  File \"e:\\MACHINE_LEARNING\\Real_Time_Fraud_Detection_in_Financial_Transactions\\venv\\Lib\\site-packages\\IPython\\core\\interactiveshell.py\", line 3577, in run_code\n",
      "    exec(code_obj, self.user_global_ns, self.user_ns)\n",
      "  File \"C:\\Users\\Admin\\AppData\\Local\\Temp\\ipykernel_19992\\2727258147.py\", line 5, in <module>\n",
      "    data_transform = obj.data_transformation()\n",
      "  File \"e:\\MACHINE_LEARNING\\Real_Time_Fraud_Detection_in_Financial_Transactions\\Fraud_Detection\\Configuration\\configuration.py\", line 64, in data_transformation\n",
      "    logging.error(\"Error at Data Transformation Configuration \", e)\n",
      "Message: 'Error at Data Transformation Configuration '\n",
      "Arguments: (TypeError(\"string indices must be integers, not 'str'\"),)\n"
     ]
    }
   ],
   "source": [
    "from Fraud_Detection.Constants.constants import *\n",
    "from Fraud_Detection.Configuration.configuration import *\n",
    "from Fraud_Detection.components.data_transformation import DataTransformation\n",
    "obj = Config(r'E:\\MACHINE_LEARNING\\Real_Time_Fraud_Detection_in_Financial_Transactions\\config\\config.yaml')\n",
    "data_transform = obj.data_transformation()"
   ]
  },
  {
   "cell_type": "code",
   "execution_count": 6,
   "metadata": {},
   "outputs": [],
   "source": [
    "data_transformation = DataTransformation(data_ingestion, data_transform)\n",
    "path, X_train_scaled, y_train_resampled = data_transformation.data_tranformation()"
   ]
  },
  {
   "cell_type": "code",
   "execution_count": 7,
   "metadata": {},
   "outputs": [
    {
     "name": "stdout",
     "output_type": "stream",
     "text": [
      "e:\\MACHINE_LEARNING\\Real_Time_Fraud_Detection_in_Financial_Transactions\\artifact\\data_transformation_artifact\\preprocessed.pkl\n"
     ]
    }
   ],
   "source": [
    "print(path)"
   ]
  },
  {
   "cell_type": "code",
   "execution_count": 1,
   "metadata": {},
   "outputs": [],
   "source": [
    "# MODEL TRAINER\n",
    "from Fraud_Detection.Configuration.configuration import *\n",
    "obj = Config(r'E:\\MACHINE_LEARNING\\Real_Time_Fraud_Detection_in_Financial_Transactions\\config\\config.yaml')\n",
    "data_transform = obj.data_transformation()\n",
    "data_ingestion = obj.data_ingestion()\n",
    "model = obj.Model_Trainer()\n"
   ]
  },
  {
   "cell_type": "code",
   "execution_count": 2,
   "metadata": {},
   "outputs": [],
   "source": [
    "from Fraud_Detection.components.model_trainer import ModelTrainer\n",
    "mod_tr = ModelTrainer(data_ingestion, data_transform, model)\n",
    "path = mod_tr.model_trainer()"
   ]
  },
  {
   "cell_type": "code",
   "execution_count": 3,
   "metadata": {},
   "outputs": [
    {
     "name": "stdout",
     "output_type": "stream",
     "text": [
      "e:\\MACHINE_LEARNING\\Real_Time_Fraud_Detection_in_Financial_Transactions\\artifact\\model_trainer_artifact\\model\\fraud_detection_model.pkl\n"
     ]
    }
   ],
   "source": [
    "print(path)"
   ]
  },
  {
   "cell_type": "code",
   "execution_count": 5,
   "metadata": {},
   "outputs": [
    {
     "name": "stdout",
     "output_type": "stream",
     "text": [
      "\n",
      "Model Evaluation Metrics:\n",
      "Accuracy: 0.9994\n",
      "Precision: 0.8283\n",
      "Recall: 0.8367\n",
      "F1-Score: 0.8325\n",
      "\n",
      "Confusion Matrix:\n",
      "[[56847    17]\n",
      " [   16    82]]\n",
      "\n",
      "Classification Report:\n",
      "              precision    recall  f1-score   support\n",
      "\n",
      "           0       1.00      1.00      1.00     56864\n",
      "           1       0.83      0.84      0.83        98\n",
      "\n",
      "    accuracy                           1.00     56962\n",
      "   macro avg       0.91      0.92      0.92     56962\n",
      "weighted avg       1.00      1.00      1.00     56962\n",
      "\n"
     ]
    }
   ],
   "source": [
    "import joblib\n",
    "import pandas as pd\n",
    "from sklearn.metrics import accuracy_score, precision_score, recall_score, f1_score, confusion_matrix, classification_report\n",
    "\n",
    "df = pd.read_csv(r\"E:\\MACHINE_LEARNING\\Real_Time_Fraud_Detection_in_Financial_Transactions\\artifact\\train_test_split\\2024-10-02-15-09-41\\test\\test.csv\")\n",
    "path1 = r\"E:\\MACHINE_LEARNING\\Real_Time_Fraud_Detection_in_Financial_Transactions\\artifact\\data_transformation_artifact\\preprocessed.pkl\"\n",
    "X_test = df.drop(['Class'], axis=1)\n",
    "y_test = df['Class']\n",
    "\n",
    "\n",
    "# Load the saved model and scaler\n",
    "rf_model = joblib.load(path)\n",
    "scaler = joblib.load(path1)\n",
    "\n",
    "# Scale new data (e.g., test data)\n",
    "X_test_scaled = scaler.transform(X_test)\n",
    "\n",
    "# Make predictions\n",
    "y_pred = rf_model.predict(X_test_scaled)\n",
    "\n",
    "accuracy = accuracy_score(y_test, y_pred)\n",
    "precision = precision_score(y_test, y_pred)\n",
    "recall = recall_score(y_test, y_pred)\n",
    "f1 = f1_score(y_test, y_pred)\n",
    "conf_matrix = confusion_matrix(y_test, y_pred)\n",
    "class_report = classification_report(y_test, y_pred)\n",
    "\n",
    "print(\"\\nModel Evaluation Metrics:\")\n",
    "print(f\"Accuracy: {accuracy:.4f}\")\n",
    "print(f\"Precision: {precision:.4f}\")\n",
    "print(f\"Recall: {recall:.4f}\")\n",
    "print(f\"F1-Score: {f1:.4f}\")\n",
    "print(\"\\nConfusion Matrix:\")\n",
    "print(conf_matrix)\n",
    "print(\"\\nClassification Report:\")\n",
    "print(class_report)"
   ]
  },
  {
   "cell_type": "code",
   "execution_count": 1,
   "metadata": {},
   "outputs": [],
   "source": [
    "# MODEL EVALUATION\n",
    "# MODEL TRAINER\n",
    "from Fraud_Detection.Configuration.configuration import *\n",
    "obj = Config(r'E:\\MACHINE_LEARNING\\Real_Time_Fraud_Detection_in_Financial_Transactions\\config\\config.yaml')\n",
    "data_transform = obj.data_transformation()\n",
    "data_ingestion = obj.data_ingestion()\n",
    "model = obj.Model_Trainer()"
   ]
  },
  {
   "cell_type": "code",
   "execution_count": 2,
   "metadata": {},
   "outputs": [
    {
     "name": "stdout",
     "output_type": "stream",
     "text": [
      "F1-Score: 0.8469\n",
      "F1-Score: 0.8325\n"
     ]
    }
   ],
   "source": [
    "from Fraud_Detection.components.model_evaluation import ModelEvaluation\n",
    "mod_eval = ModelEvaluation(data_ingestion, data_transform, model)\n",
    "path = mod_eval.model_evaluation()"
   ]
  },
  {
   "cell_type": "code",
   "execution_count": 1,
   "metadata": {},
   "outputs": [],
   "source": [
    "from Pipeline.pipeline import Pipeline\n",
    "\n",
    "pipln = Pipeline(r'E:\\MACHINE_LEARNING\\Real_Time_Fraud_Detection_in_Financial_Transactions\\config\\config.yaml')\n",
    "pipln.pipeline()"
   ]
  },
  {
   "cell_type": "code",
   "execution_count": 3,
   "metadata": {},
   "outputs": [
    {
     "data": {
      "text/plain": [
       "('e:\\\\MACHINE_LEARNING\\\\Real_Time_Fraud_Detection_in_Financial_Transactions\\\\artifact\\\\data_transformation_artifact\\\\preprocessed.pkl',\n",
       " array([[ 0.77535337, -0.70891691,  0.34289487, ..., -0.01501808,\n",
       "         -0.18177129, -0.38913161],\n",
       "        [ 0.79164932, -0.51235142,  0.06618637, ..., -0.09435925,\n",
       "         -0.27005704, -0.40619423],\n",
       "        [ 0.23364526, -0.33019287,  0.67865315, ..., -0.05683448,\n",
       "          0.34089211,  0.27201512],\n",
       "        ...,\n",
       "        [ 0.19797642, -0.08207613,  0.14195954, ...,  0.266239  ,\n",
       "          0.60696264, -0.3867275 ],\n",
       "        [-4.53140842,  5.05718782, -3.55104049, ..., -5.53534792,\n",
       "         -0.66570795, -0.41667205],\n",
       "        [-0.40631129,  0.27330464, -0.20201761, ..., -1.74410205,\n",
       "          2.75722232, -0.04995053]]),\n",
       " 0         0\n",
       " 1         0\n",
       " 2         0\n",
       " 3         0\n",
       " 4         0\n",
       "          ..\n",
       " 454897    1\n",
       " 454898    1\n",
       " 454899    1\n",
       " 454900    1\n",
       " 454901    1\n",
       " Name: Class, Length: 454902, dtype: int64)"
      ]
     },
     "execution_count": 3,
     "metadata": {},
     "output_type": "execute_result"
    }
   ],
   "source": [
    "from Fraud_Detection.Util.util import read_yaml_file\n",
    "from Fraud_Detection.Constants.constants import *\n",
    "from Fraud_Detection.Configuration.configuration import *\n",
    "from Fraud_Detection.components.data_transformation import DataTransformation\n",
    "yaml_content = read_yaml_file(r'E:\\MACHINE_LEARNING\\Real_Time_Fraud_Detection_in_Financial_Transactions\\config\\config.yaml')\n",
    "cfg = Config(yaml_content)\n",
    "\n",
    "data_ign = cfg.data_ingestion()\n",
    "data_tr = cfg.data_transformation()\n",
    "\n",
    "data_transform = DataTransformation(data_ign, data_tr)\n",
    "data_transform.data_tranformation()\n"
   ]
  },
  {
   "cell_type": "code",
   "execution_count": 2,
   "metadata": {},
   "outputs": [
    {
     "name": "stdout",
     "output_type": "stream",
     "text": [
      "Latest folder: 2024-10-02-20-00-00\n"
     ]
    }
   ],
   "source": [
    "import os\n",
    "\n",
    "def get_latest_folder(directory):\n",
    "    # Get all folders in the directory\n",
    "    folders = [f for f in os.listdir(directory) if os.path.isdir(os.path.join(directory, f))]\n",
    "    \n",
    "    if not folders:\n",
    "        return None\n",
    "\n",
    "    # Find the latest folder by modification time\n",
    "    latest_folder = max(folders, key=lambda f: os.path.getmtime(os.path.join(directory, f)))\n",
    "    \n",
    "    return latest_folder\n",
    "\n",
    "# Example usage\n",
    "directory_path = r'E:\\MACHINE_LEARNING\\Real_Time_Fraud_Detection_in_Financial_Transactions\\artifact\\data_ingestion'\n",
    "latest_folder = get_latest_folder(directory_path)\n",
    "print(f\"Latest folder: {latest_folder}\")\n"
   ]
  },
  {
   "cell_type": "code",
   "execution_count": 3,
   "metadata": {},
   "outputs": [
    {
     "name": "stdout",
     "output_type": "stream",
     "text": [
      "<class 'str'>\n"
     ]
    }
   ],
   "source": [
    "print(type(latest_folder))"
   ]
  },
  {
   "cell_type": "code",
   "execution_count": null,
   "metadata": {},
   "outputs": [],
   "source": []
  }
 ],
 "metadata": {
  "kernelspec": {
   "display_name": "Python 3",
   "language": "python",
   "name": "python3"
  },
  "language_info": {
   "codemirror_mode": {
    "name": "ipython",
    "version": 3
   },
   "file_extension": ".py",
   "mimetype": "text/x-python",
   "name": "python",
   "nbconvert_exporter": "python",
   "pygments_lexer": "ipython3",
   "version": "3.12.0"
  }
 },
 "nbformat": 4,
 "nbformat_minor": 2
}
